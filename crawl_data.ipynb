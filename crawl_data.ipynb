{
 "cells": [
  {
   "cell_type": "code",
   "execution_count": 1,
   "metadata": {},
   "outputs": [],
   "source": [
    "import pandas as pd\n",
    "import numpy as np\n",
    "import yfinance as yf\n",
    "import matplotlib.pyplot as plt\n",
    "import os\n"
   ]
  },
  {
   "cell_type": "code",
   "execution_count": 2,
   "metadata": {},
   "outputs": [],
   "source": [
    "# TES, AST, BAR, BP, BAT, HAL, HH, JM, LG, MSG, PEA, REL, RB, RDSB, SG, SJ, SCH, ST, SSE, VG\n",
    "# TES.L, AST.L, BAR.L, BP.L, BAT.L, HAL.L, HH.L, JM.L, LG.L, MSG.L, PEA.L, REL.L, RB.L, RDSB.L, SG.L, SJ.L, SCH.L, ST.L, SSE.L, VG.L\n"
   ]
  },
  {
   "cell_type": "code",
   "execution_count": 5,
   "metadata": {},
   "outputs": [
    {
     "name": "stderr",
     "output_type": "stream",
     "text": [
      "[*********************100%***********************]  1 of 1 completed\n",
      "[*********************100%***********************]  1 of 1 completed\n"
     ]
    },
    {
     "name": "stdout",
     "output_type": "stream",
     "text": [
      "TSLA done, shape: (3651, 5)\n",
      "AHT done, shape: (7929, 5)\n"
     ]
    },
    {
     "name": "stderr",
     "output_type": "stream",
     "text": [
      "[*********************100%***********************]  1 of 1 completed\n",
      "[*********************100%***********************]  1 of 1 completed"
     ]
    },
    {
     "name": "stdout",
     "output_type": "stream",
     "text": [
      "BARC done, shape: (7929, 5)\n",
      "BP done, shape: (7929, 5)\n"
     ]
    },
    {
     "name": "stderr",
     "output_type": "stream",
     "text": [
      "\n",
      "[*********************100%***********************]  1 of 1 completed\n",
      "[*********************100%***********************]  1 of 1 completed"
     ]
    },
    {
     "name": "stdout",
     "output_type": "stream",
     "text": [
      "BATS done, shape: (7668, 5)\n",
      "HLMA done, shape: (7929, 5)\n"
     ]
    },
    {
     "name": "stderr",
     "output_type": "stream",
     "text": [
      "\n",
      "[*********************100%***********************]  1 of 1 completed\n",
      "[*********************100%***********************]  1 of 1 completed\n"
     ]
    },
    {
     "name": "stdout",
     "output_type": "stream",
     "text": [
      "HIK done, shape: (4843, 5)\n",
      "JMAT done, shape: (7929, 5)\n"
     ]
    },
    {
     "name": "stderr",
     "output_type": "stream",
     "text": [
      "[*********************100%***********************]  1 of 1 completed\n"
     ]
    },
    {
     "name": "stdout",
     "output_type": "stream",
     "text": [
      "LGEN done, shape: (7929, 5)\n"
     ]
    },
    {
     "name": "stderr",
     "output_type": "stream",
     "text": [
      "[*********************100%***********************]  1 of 1 completed\n",
      "[*********************100%***********************]  1 of 1 completed"
     ]
    },
    {
     "name": "stdout",
     "output_type": "stream",
     "text": [
      "PSON done, shape: (7929, 5)\n",
      "REL done, shape: (7929, 5)\n"
     ]
    },
    {
     "name": "stderr",
     "output_type": "stream",
     "text": [
      "\n",
      "[*********************100%***********************]  1 of 1 completed\n"
     ]
    },
    {
     "name": "stdout",
     "output_type": "stream",
     "text": [
      "RKT done, shape: (7929, 5)\n"
     ]
    },
    {
     "name": "stderr",
     "output_type": "stream",
     "text": [
      "[*********************100%***********************]  1 of 1 completed\n"
     ]
    },
    {
     "name": "stdout",
     "output_type": "stream",
     "text": [
      "SHEL done, shape: (7236, 5)\n"
     ]
    },
    {
     "name": "stderr",
     "output_type": "stream",
     "text": [
      "[*********************100%***********************]  1 of 1 completed\n"
     ]
    },
    {
     "name": "stdout",
     "output_type": "stream",
     "text": [
      "SGE done, shape: (7929, 5)\n"
     ]
    },
    {
     "name": "stderr",
     "output_type": "stream",
     "text": [
      "[*********************100%***********************]  1 of 1 completed\n",
      "[*********************100%***********************]  1 of 1 completed"
     ]
    },
    {
     "name": "stdout",
     "output_type": "stream",
     "text": [
      "STJ done, shape: (7929, 5)\n",
      "SDR done, shape: (7929, 5)\n"
     ]
    },
    {
     "name": "stderr",
     "output_type": "stream",
     "text": [
      "\n",
      "[*********************100%***********************]  1 of 1 completed\n"
     ]
    },
    {
     "name": "stdout",
     "output_type": "stream",
     "text": [
      "STAN done, shape: (7929, 5)\n"
     ]
    },
    {
     "name": "stderr",
     "output_type": "stream",
     "text": [
      "[*********************100%***********************]  1 of 1 completed\n",
      "[*********************100%***********************]  1 of 1 completed\n"
     ]
    },
    {
     "name": "stdout",
     "output_type": "stream",
     "text": [
      "SSE done, shape: (7929, 5)\n",
      "VOD done, shape: (7929, 5)\n"
     ]
    },
    {
     "name": "stderr",
     "output_type": "stream",
     "text": [
      "[*********************100%***********************]  1 of 1 completed"
     ]
    },
    {
     "name": "stdout",
     "output_type": "stream",
     "text": [
      "TSCO done, shape: (7929, 5)\n"
     ]
    },
    {
     "name": "stderr",
     "output_type": "stream",
     "text": [
      "\n"
     ]
    }
   ],
   "source": [
    "code_list = ['TSLA', 'AHT', 'BARC', 'BP', 'BATS', 'HLMA', 'HIK', 'JMAT', 'LGEN', 'PSON', 'REL', 'RKT', 'SHEL', 'SGE', 'STJ', 'SDR', 'STAN', 'SSE', 'VOD', 'TSCO']\n",
    "\n",
    "\n",
    "# Ensure the Data_FTSE directory exists\n",
    "if not os.path.exists('./Data_FTSE'):\n",
    "    os.makedirs('./Data_FTSE')\n",
    "    \n",
    "for code in code_list:\n",
    "    try:\n",
    "        # Append '.L' for LSE tickers, except for TSLA which is on NASDAQ\n",
    "        ticker = code + '.L' if code != 'TSLA' else code\n",
    "        data = yf.download(ticker, start='1994-01-01', end='2024-12-31')\n",
    "        data.to_csv(f'./Data_FTSE/{code}.csv')\n",
    "        print(f'{code} done, shape: {data.shape}')\n",
    "    except Exception as e:\n",
    "        print(f'Failed to download {code}: {e}')"
   ]
  },
  {
   "cell_type": "code",
   "execution_count": 6,
   "metadata": {},
   "outputs": [
    {
     "name": "stderr",
     "output_type": "stream",
     "text": [
      "[*********************100%***********************]  1 of 1 completed"
     ]
    },
    {
     "name": "stdout",
     "output_type": "stream",
     "text": [
      "Price            Close        High         Low        Open    Volume\n",
      "Ticker          TSCO.L      TSCO.L      TSCO.L      TSCO.L    TSCO.L\n",
      "Date                                                                \n",
      "1994-01-03   30.904335   30.904335   30.904335   30.904335         0\n",
      "1994-01-04   31.266195   31.266195   31.266195   31.266195         0\n",
      "1994-01-05   32.134686   32.134686   32.134686   32.134686         0\n",
      "1994-01-06   33.509853   33.509853   33.509853   33.509853         0\n",
      "1994-01-07   33.871712   33.871712   33.871712   33.871712         0\n",
      "...                ...         ...         ...         ...       ...\n",
      "2024-12-20  366.399994  368.899994  364.600006  367.799988  40046437\n",
      "2024-12-23  366.000000  367.799988  362.399994  364.799988   6240707\n",
      "2024-12-24  368.500000  369.299988  365.799988  366.899994   3125759\n",
      "2024-12-27  366.899994  369.000000  366.000000  368.500000   5777308\n",
      "2024-12-30  365.600006  367.899994  364.799988  366.399994  12322424\n",
      "\n",
      "[7929 rows x 5 columns]\n"
     ]
    },
    {
     "name": "stderr",
     "output_type": "stream",
     "text": [
      "\n"
     ]
    }
   ],
   "source": [
    "# Tải dữ liệu giá vàng hợp đồng tương lai (GC=F) từ Yahoo Finance\n",
    "data = yf.download(\"TSCO.L\", start=\"1994-01-01\", end=\"2024-12-31\")\n",
    "\n",
    "# Hiển thị dữ liệu\n",
    "print(data)"
   ]
  }
 ],
 "metadata": {
  "kernelspec": {
   "display_name": "py310",
   "language": "python",
   "name": "python3"
  },
  "language_info": {
   "codemirror_mode": {
    "name": "ipython",
    "version": 3
   },
   "file_extension": ".py",
   "mimetype": "text/x-python",
   "name": "python",
   "nbconvert_exporter": "python",
   "pygments_lexer": "ipython3",
   "version": "3.10.15"
  }
 },
 "nbformat": 4,
 "nbformat_minor": 2
}
