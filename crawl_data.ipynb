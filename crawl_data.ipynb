{
 "cells": [
  {
   "cell_type": "code",
   "execution_count": 2,
   "metadata": {},
   "outputs": [],
   "source": [
    "import pandas as pd\n",
    "import numpy as np\n",
    "import yfinance as yf\n",
    "import matplotlib.pyplot as plt\n",
    "import os\n"
   ]
  },
  {
   "cell_type": "code",
   "execution_count": null,
   "metadata": {},
   "outputs": [],
   "source": [
    "# TES, AST, BAR, BP, BAT, HAL, HH, JM, LG, MSG, PEA, REL, RB, RDSB, SG, SJ, SCH, ST, SSE, VG\n",
    "# TES.L, AST.L, BAR.L, BP.L, BAT.L, HAL.L, HH.L, JM.L, LG.L, MSG.L, PEA.L, REL.L, RB.L, RDSB.L, SG.L, SJ.L, SCH.L, ST.L, SSE.L, VG.L\n"
   ]
  },
  {
   "cell_type": "code",
   "execution_count": 9,
   "metadata": {},
   "outputs": [
    {
     "name": "stderr",
     "output_type": "stream",
     "text": [
      "[*********************100%***********************]  1 of 1 completed\n",
      "\n",
      "1 Failed download:\n",
      "['TES.L']: YFPricesMissingError('$%ticker%: possibly delisted; no price data found  (1d 1994-01-01 -> 2024-12-31)')\n",
      "[*********************100%***********************]  1 of 1 completed\n"
     ]
    },
    {
     "name": "stdout",
     "output_type": "stream",
     "text": [
      "TES done\n",
      "AST done\n"
     ]
    },
    {
     "name": "stderr",
     "output_type": "stream",
     "text": [
      "[*********************100%***********************]  1 of 1 completed\n",
      "[*********************100%***********************]  1 of 1 completed\n",
      "[*********************100%***********************]  1 of 1 completed\n",
      "\n",
      "1 Failed download:\n",
      "['BAT.L']: YFTzMissingError('$%ticker%: possibly delisted; no timezone found')\n",
      "[*********************100%***********************]  1 of 1 completed"
     ]
    },
    {
     "name": "stdout",
     "output_type": "stream",
     "text": [
      "BAR done\n",
      "BP done\n",
      "BAT done\n"
     ]
    },
    {
     "name": "stderr",
     "output_type": "stream",
     "text": [
      "\n",
      "[*********************100%***********************]  1 of 1 completed\n",
      "\n",
      "1 Failed download:\n",
      "['HH.L']: YFTzMissingError('$%ticker%: possibly delisted; no timezone found')\n",
      "[*********************100%***********************]  1 of 1 completed\n",
      "\n",
      "1 Failed download:\n",
      "['JM.L']: YFTzMissingError('$%ticker%: possibly delisted; no timezone found')\n",
      "[*********************100%***********************]  1 of 1 completed\n",
      "\n",
      "1 Failed download:\n",
      "['LG.L']: YFTzMissingError('$%ticker%: possibly delisted; no timezone found')\n",
      "[*********************100%***********************]  1 of 1 completed\n",
      "\n",
      "1 Failed download:\n",
      "['MSG.L']: YFPricesMissingError('$%ticker%: possibly delisted; no price data found  (1d 1994-01-01 -> 2024-12-31)')\n",
      "[*********************100%***********************]  1 of 1 completed\n",
      "\n",
      "1 Failed download:\n",
      "['PEA.L']: YFPricesMissingError('$%ticker%: possibly delisted; no price data found  (1d 1994-01-01 -> 2024-12-31)')\n"
     ]
    },
    {
     "name": "stdout",
     "output_type": "stream",
     "text": [
      "HAL done\n",
      "HH done\n",
      "JM done\n",
      "LG done\n",
      "MSG done\n",
      "PEA done\n"
     ]
    },
    {
     "name": "stderr",
     "output_type": "stream",
     "text": [
      "[*********************100%***********************]  1 of 1 completed\n",
      "[*********************100%***********************]  1 of 1 completed\n",
      "\n",
      "1 Failed download:\n",
      "['RB.L']: YFTzMissingError('$%ticker%: possibly delisted; no timezone found')\n",
      "[*********************100%***********************]  1 of 1 completed\n",
      "\n",
      "1 Failed download:\n",
      "['RDSB.L']: YFTzMissingError('$%ticker%: possibly delisted; no timezone found')\n",
      "[*********************100%***********************]  1 of 1 completed\n",
      "\n",
      "1 Failed download:\n",
      "['SG.L']: YFTzMissingError('$%ticker%: possibly delisted; no timezone found')\n",
      "[*********************100%***********************]  1 of 1 completed\n",
      "\n",
      "1 Failed download:\n",
      "['SJ.L']: YFTzMissingError('$%ticker%: possibly delisted; no timezone found')\n",
      "[*********************100%***********************]  1 of 1 completed\n",
      "\n",
      "1 Failed download:\n",
      "['SCH.L']: YFTzMissingError('$%ticker%: possibly delisted; no timezone found')\n",
      "[*********************100%***********************]  1 of 1 completed\n",
      "\n",
      "1 Failed download:\n",
      "['ST.L']: YFTzMissingError('$%ticker%: possibly delisted; no timezone found')\n"
     ]
    },
    {
     "name": "stdout",
     "output_type": "stream",
     "text": [
      "REL done\n",
      "RB done\n",
      "RDSB done\n",
      "SG done\n",
      "SJ done\n",
      "SCH done\n",
      "ST done\n"
     ]
    },
    {
     "name": "stderr",
     "output_type": "stream",
     "text": [
      "[*********************100%***********************]  1 of 1 completed\n",
      "[*********************100%***********************]  1 of 1 completed\n",
      "\n",
      "1 Failed download:\n",
      "['VG.L']: YFTzMissingError('$%ticker%: possibly delisted; no timezone found')\n"
     ]
    },
    {
     "name": "stdout",
     "output_type": "stream",
     "text": [
      "SSE done\n",
      "VG done\n"
     ]
    }
   ],
   "source": [
    "code_list = ['TES', 'AST', 'BAR', 'BP', 'BAT', 'HAL', 'HH', 'JM', 'LG', 'MSG', 'PEA', 'REL', 'RB', 'RDSB', 'SG', 'SJ', 'SCH', 'ST', 'SSE', 'VG']\n",
    "for code in code_list:\n",
    "    data = yf.download(code + '.L', start='1994-01-01', end='2024-12-31')\n",
    "    # data['Close'].plot()\n",
    "    data.to_csv('./Data_FTSE/' + code + '.csv')\n",
    "    # os.system('mv ' + code + '.csv data/' + code + '.csv')\n",
    "    print(code + ' done')"
   ]
  },
  {
   "cell_type": "code",
   "execution_count": 5,
   "metadata": {},
   "outputs": [
    {
     "name": "stderr",
     "output_type": "stream",
     "text": [
      "[*********************100%***********************]  1 of 1 completed"
     ]
    },
    {
     "name": "stdout",
     "output_type": "stream",
     "text": [
      "Price            Close        High         Low        Open    Volume\n",
      "Ticker          TSCO.L      TSCO.L      TSCO.L      TSCO.L    TSCO.L\n",
      "Date                                                                \n",
      "1994-01-03   30.904335   30.904335   30.904335   30.904335         0\n",
      "1994-01-04   31.266188   31.266188   31.266188   31.266188         0\n",
      "1994-01-05   32.134689   32.134689   32.134689   32.134689         0\n",
      "1994-01-06   33.509865   33.509865   33.509865   33.509865         0\n",
      "1994-01-07   33.871727   33.871727   33.871727   33.871727         0\n",
      "...                ...         ...         ...         ...       ...\n",
      "2024-12-20  366.399994  368.899994  364.600006  367.799988  40046437\n",
      "2024-12-23  366.000000  367.799988  362.399994  364.799988   6240707\n",
      "2024-12-24  368.500000  369.299988  365.799988  366.899994   3125759\n",
      "2024-12-27  366.899994  369.000000  366.000000  368.500000   5777308\n",
      "2024-12-30  365.600006  367.899994  364.799988  366.399994  12322424\n",
      "\n",
      "[7929 rows x 5 columns]\n"
     ]
    },
    {
     "name": "stderr",
     "output_type": "stream",
     "text": [
      "\n"
     ]
    }
   ],
   "source": [
    "# Tải dữ liệu giá vàng hợp đồng tương lai (GC=F) từ Yahoo Finance\n",
    "data = yf.download(\"TSCO.L\", start=\"1994-01-01\", end=\"2024-12-31\")\n",
    "\n",
    "# Hiển thị dữ liệu\n",
    "print(data)"
   ]
  }
 ],
 "metadata": {
  "kernelspec": {
   "display_name": "py310",
   "language": "python",
   "name": "python3"
  },
  "language_info": {
   "codemirror_mode": {
    "name": "ipython",
    "version": 3
   },
   "file_extension": ".py",
   "mimetype": "text/x-python",
   "name": "python",
   "nbconvert_exporter": "python",
   "pygments_lexer": "ipython3",
   "version": "3.10.15"
  }
 },
 "nbformat": 4,
 "nbformat_minor": 2
}
