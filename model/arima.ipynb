{
 "cells": [
  {
   "cell_type": "code",
   "execution_count": 14,
   "metadata": {},
   "outputs": [
    {
     "name": "stdout",
     "output_type": "stream",
     "text": [
      "📂 Danh sách file CSV: ['AHT.csv', 'BARC.csv', 'BATS.csv', 'BP.csv', 'HLMA.csv', 'JMAT.csv', 'LGEN.csv', 'PSON.csv', 'REL.csv', 'RKT.csv', 'SDR.csv', 'SGE.csv', 'SHEL.csv', 'SSE.csv', 'STAN.csv', 'STJ.csv', 'TSCO.csv', 'VOD.csv']\n"
     ]
    }
   ],
   "source": [
    "import os\n",
    "import pandas as pd\n",
    "from statsmodels.tsa.arima.model import ARIMA\n",
    "\n",
    "# Đường dẫn thư mục chứa dữ liệu\n",
    "folder_path = \"../Data_FTSE_model\"\n",
    "\n",
    "# Lấy danh sách tất cả file CSV trong thư mục\n",
    "csv_files = [f for f in os.listdir(folder_path) if f.endswith(\".csv\")]\n",
    "\n",
    "# Kiểm tra danh sách file\n",
    "print(\"📂 Danh sách file CSV:\", csv_files)\n"
   ]
  },
  {
   "cell_type": "code",
   "execution_count": null,
   "metadata": {},
   "outputs": [],
   "source": [
    "# Tham số cửa sổ trượt\n",
    "train_size = 750\n",
    "test_size = 250\n",
    "step_size = 250  # Mỗi lần dịch cửa sổ\n",
    "\n",
    "# Duyệt từng file để huấn luyện ARIMA và dự báo\n",
    "for file in csv_files:\n",
    "    file_path = os.path.join(folder_path, file)\n",
    "    df = pd.read_csv(file_path, parse_dates=[\"Date\"], index_col=\"Date\")\n",
    "\n",
    "    # Tổng số điểm dữ liệu\n",
    "    total_points = len(df)\n",
    "\n",
    "    # Lưu kết quả dự báo\n",
    "    all_forecasts = []\n",
    "\n",
    "    # Cửa sổ trượt\n",
    "    for start in range(0, total_points - train_size - test_size + 1, step_size):\n",
    "        train_end = start + train_size\n",
    "        test_end = train_end + test_size\n",
    "\n",
    "        # Tạo tập train và test\n",
    "        train_data = df.iloc[start:train_end][\"Close\"]\n",
    "        test_dates = df.index[train_end:test_end]\n",
    "\n",
    "        try:\n",
    "            # Huấn luyện mô hình ARIMA(p=1, d=1, q=1)\n",
    "            model = ARIMA(train_data, order=(1,1,1))\n",
    "            model_fit = model.fit()\n",
    "\n",
    "            # Dự báo 250 ngày tiếp theo\n",
    "            forecast = model_fit.forecast(steps=test_size)\n",
    "            forecast.index = test_dates\n",
    "\n",
    "            # Lưu kết quả vào danh sách\n",
    "            forecast_df = pd.DataFrame({\"Date\": test_dates, \"Predicted_Close\": forecast.values})\n",
    "            all_forecasts.append(forecast_df)\n",
    "\n",
    "            print(f\"✅ Hoàn thành cửa sổ {start} → {test_end} ({file})\")\n",
    "\n",
    "        except Exception as e:\n",
    "            print(f\"⚠️ Lỗi với {file} (từ {start}): {e}\")\n",
    "\n",
    "    # Gộp tất cả dự báo lại và lưu file\n",
    "    if all_forecasts:\n",
    "        final_forecast_df = pd.concat(all_forecasts)\n",
    "        output_file = '../output/arima/ARIMA_' + file\n",
    "        final_forecast_df.to_csv(output_file, index=False)\n",
    "        print(f\"📁 Dự báo hoàn thành: {output_file}\")"
   ]
  }
 ],
 "metadata": {
  "kernelspec": {
   "display_name": "py310",
   "language": "python",
   "name": "python3"
  },
  "language_info": {
   "codemirror_mode": {
    "name": "ipython",
    "version": 3
   },
   "file_extension": ".py",
   "mimetype": "text/x-python",
   "name": "python",
   "nbconvert_exporter": "python",
   "pygments_lexer": "ipython3",
   "version": "3.10.15"
  }
 },
 "nbformat": 4,
 "nbformat_minor": 2
}
